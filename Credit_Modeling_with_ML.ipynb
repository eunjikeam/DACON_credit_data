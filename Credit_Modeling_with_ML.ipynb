{
 "cells": [
  {
   "cell_type": "markdown",
   "metadata": {},
   "source": [
    "## 신용카드 사용자 연체 예측\n",
    "\n",
    "- 신용카드 사용자 데이터를 보고 사용자의 대금 연체 정도를 예측하는 알고리즘"
   ]
  },
  {
   "cell_type": "markdown",
   "metadata": {},
   "source": [
    "## import package"
   ]
  },
  {
   "cell_type": "code",
   "execution_count": 1,
   "metadata": {},
   "outputs": [],
   "source": [
    "import pandas as pd\n",
    "import numpy as np\n",
    "import lightgbm as lgb\n",
    "from sklearn.model_selection import GridSearchCV"
   ]
  },
  {
   "cell_type": "markdown",
   "metadata": {},
   "source": [
    "## Data Load"
   ]
  },
  {
   "cell_type": "code",
   "execution_count": 2,
   "metadata": {},
   "outputs": [],
   "source": [
    "train = pd.read_csv('./data/train.csv')\n",
    "test = pd.read_csv('./data/test.csv')"
   ]
  },
  {
   "cell_type": "code",
   "execution_count": 3,
   "metadata": {},
   "outputs": [
    {
     "data": {
      "text/html": [
       "<div>\n",
       "<style scoped>\n",
       "    .dataframe tbody tr th:only-of-type {\n",
       "        vertical-align: middle;\n",
       "    }\n",
       "\n",
       "    .dataframe tbody tr th {\n",
       "        vertical-align: top;\n",
       "    }\n",
       "\n",
       "    .dataframe thead th {\n",
       "        text-align: right;\n",
       "    }\n",
       "</style>\n",
       "<table border=\"1\" class=\"dataframe\">\n",
       "  <thead>\n",
       "    <tr style=\"text-align: right;\">\n",
       "      <th></th>\n",
       "      <th>index</th>\n",
       "      <th>gender</th>\n",
       "      <th>car</th>\n",
       "      <th>reality</th>\n",
       "      <th>child_num</th>\n",
       "      <th>income_total</th>\n",
       "      <th>income_type</th>\n",
       "      <th>edu_type</th>\n",
       "      <th>family_type</th>\n",
       "      <th>house_type</th>\n",
       "      <th>DAYS_BIRTH</th>\n",
       "      <th>DAYS_EMPLOYED</th>\n",
       "      <th>FLAG_MOBIL</th>\n",
       "      <th>work_phone</th>\n",
       "      <th>phone</th>\n",
       "      <th>email</th>\n",
       "      <th>occyp_type</th>\n",
       "      <th>family_size</th>\n",
       "      <th>begin_month</th>\n",
       "      <th>credit</th>\n",
       "    </tr>\n",
       "  </thead>\n",
       "  <tbody>\n",
       "    <tr>\n",
       "      <td>0</td>\n",
       "      <td>0</td>\n",
       "      <td>F</td>\n",
       "      <td>N</td>\n",
       "      <td>N</td>\n",
       "      <td>0</td>\n",
       "      <td>202500.0</td>\n",
       "      <td>Commercial associate</td>\n",
       "      <td>Higher education</td>\n",
       "      <td>Married</td>\n",
       "      <td>Municipal apartment</td>\n",
       "      <td>-13899</td>\n",
       "      <td>-4709</td>\n",
       "      <td>1</td>\n",
       "      <td>0</td>\n",
       "      <td>0</td>\n",
       "      <td>0</td>\n",
       "      <td>NaN</td>\n",
       "      <td>2.0</td>\n",
       "      <td>-6.0</td>\n",
       "      <td>1.0</td>\n",
       "    </tr>\n",
       "    <tr>\n",
       "      <td>1</td>\n",
       "      <td>1</td>\n",
       "      <td>F</td>\n",
       "      <td>N</td>\n",
       "      <td>Y</td>\n",
       "      <td>1</td>\n",
       "      <td>247500.0</td>\n",
       "      <td>Commercial associate</td>\n",
       "      <td>Secondary / secondary special</td>\n",
       "      <td>Civil marriage</td>\n",
       "      <td>House / apartment</td>\n",
       "      <td>-11380</td>\n",
       "      <td>-1540</td>\n",
       "      <td>1</td>\n",
       "      <td>0</td>\n",
       "      <td>0</td>\n",
       "      <td>1</td>\n",
       "      <td>Laborers</td>\n",
       "      <td>3.0</td>\n",
       "      <td>-5.0</td>\n",
       "      <td>1.0</td>\n",
       "    </tr>\n",
       "    <tr>\n",
       "      <td>2</td>\n",
       "      <td>2</td>\n",
       "      <td>M</td>\n",
       "      <td>Y</td>\n",
       "      <td>Y</td>\n",
       "      <td>0</td>\n",
       "      <td>450000.0</td>\n",
       "      <td>Working</td>\n",
       "      <td>Higher education</td>\n",
       "      <td>Married</td>\n",
       "      <td>House / apartment</td>\n",
       "      <td>-19087</td>\n",
       "      <td>-4434</td>\n",
       "      <td>1</td>\n",
       "      <td>0</td>\n",
       "      <td>1</td>\n",
       "      <td>0</td>\n",
       "      <td>Managers</td>\n",
       "      <td>2.0</td>\n",
       "      <td>-22.0</td>\n",
       "      <td>2.0</td>\n",
       "    </tr>\n",
       "    <tr>\n",
       "      <td>3</td>\n",
       "      <td>3</td>\n",
       "      <td>F</td>\n",
       "      <td>N</td>\n",
       "      <td>Y</td>\n",
       "      <td>0</td>\n",
       "      <td>202500.0</td>\n",
       "      <td>Commercial associate</td>\n",
       "      <td>Secondary / secondary special</td>\n",
       "      <td>Married</td>\n",
       "      <td>House / apartment</td>\n",
       "      <td>-15088</td>\n",
       "      <td>-2092</td>\n",
       "      <td>1</td>\n",
       "      <td>0</td>\n",
       "      <td>1</td>\n",
       "      <td>0</td>\n",
       "      <td>Sales staff</td>\n",
       "      <td>2.0</td>\n",
       "      <td>-37.0</td>\n",
       "      <td>0.0</td>\n",
       "    </tr>\n",
       "    <tr>\n",
       "      <td>4</td>\n",
       "      <td>4</td>\n",
       "      <td>F</td>\n",
       "      <td>Y</td>\n",
       "      <td>Y</td>\n",
       "      <td>0</td>\n",
       "      <td>157500.0</td>\n",
       "      <td>State servant</td>\n",
       "      <td>Higher education</td>\n",
       "      <td>Married</td>\n",
       "      <td>House / apartment</td>\n",
       "      <td>-15037</td>\n",
       "      <td>-2105</td>\n",
       "      <td>1</td>\n",
       "      <td>0</td>\n",
       "      <td>0</td>\n",
       "      <td>0</td>\n",
       "      <td>Managers</td>\n",
       "      <td>2.0</td>\n",
       "      <td>-26.0</td>\n",
       "      <td>2.0</td>\n",
       "    </tr>\n",
       "  </tbody>\n",
       "</table>\n",
       "</div>"
      ],
      "text/plain": [
       "   index gender car reality  child_num  income_total           income_type  \\\n",
       "0      0      F   N       N          0      202500.0  Commercial associate   \n",
       "1      1      F   N       Y          1      247500.0  Commercial associate   \n",
       "2      2      M   Y       Y          0      450000.0               Working   \n",
       "3      3      F   N       Y          0      202500.0  Commercial associate   \n",
       "4      4      F   Y       Y          0      157500.0         State servant   \n",
       "\n",
       "                        edu_type     family_type           house_type  \\\n",
       "0               Higher education         Married  Municipal apartment   \n",
       "1  Secondary / secondary special  Civil marriage    House / apartment   \n",
       "2               Higher education         Married    House / apartment   \n",
       "3  Secondary / secondary special         Married    House / apartment   \n",
       "4               Higher education         Married    House / apartment   \n",
       "\n",
       "   DAYS_BIRTH  DAYS_EMPLOYED  FLAG_MOBIL  work_phone  phone  email  \\\n",
       "0      -13899          -4709           1           0      0      0   \n",
       "1      -11380          -1540           1           0      0      1   \n",
       "2      -19087          -4434           1           0      1      0   \n",
       "3      -15088          -2092           1           0      1      0   \n",
       "4      -15037          -2105           1           0      0      0   \n",
       "\n",
       "    occyp_type  family_size  begin_month  credit  \n",
       "0          NaN          2.0         -6.0     1.0  \n",
       "1     Laborers          3.0         -5.0     1.0  \n",
       "2     Managers          2.0        -22.0     2.0  \n",
       "3  Sales staff          2.0        -37.0     0.0  \n",
       "4     Managers          2.0        -26.0     2.0  "
      ]
     },
     "execution_count": 3,
     "metadata": {},
     "output_type": "execute_result"
    }
   ],
   "source": [
    "train.head()"
   ]
  },
  {
   "cell_type": "code",
   "execution_count": 4,
   "metadata": {},
   "outputs": [
    {
     "data": {
      "text/plain": [
       "(26457, 20)"
      ]
     },
     "execution_count": 4,
     "metadata": {},
     "output_type": "execute_result"
    }
   ],
   "source": [
    "train.shape"
   ]
  },
  {
   "cell_type": "code",
   "execution_count": 5,
   "metadata": {},
   "outputs": [
    {
     "data": {
      "text/plain": [
       "index              int64\n",
       "gender            object\n",
       "car               object\n",
       "reality           object\n",
       "child_num          int64\n",
       "income_total     float64\n",
       "income_type       object\n",
       "edu_type          object\n",
       "family_type       object\n",
       "house_type        object\n",
       "DAYS_BIRTH         int64\n",
       "DAYS_EMPLOYED      int64\n",
       "FLAG_MOBIL         int64\n",
       "work_phone         int64\n",
       "phone              int64\n",
       "email              int64\n",
       "occyp_type        object\n",
       "family_size      float64\n",
       "begin_month      float64\n",
       "credit           float64\n",
       "dtype: object"
      ]
     },
     "execution_count": 5,
     "metadata": {},
     "output_type": "execute_result"
    }
   ],
   "source": [
    "train.dtypes"
   ]
  },
  {
   "cell_type": "markdown",
   "metadata": {},
   "source": [
    "- index         : key\n",
    "- gender        : (obj)성별\n",
    "- car           : (obj)차 소유여부\n",
    "- reality       : (obj)\n",
    "- child_num     : (int)자녀 수 \n",
    "- income_total  : (int)수입\n",
    "- income_type   : (obj)수입타입\n",
    "- edu_type      : (obj)학벌\n",
    "- family_type   : (obj)가족타입\n",
    "- house_type    : (obj)집타입\n",
    "- DAYS_BIRTH    : (int)태어난날짜\n",
    "- DAYS_EMPLOYED : (int)취직날짜\n",
    "- FLAG_MOBIL    : (obj)모바일폰 보유여부\n",
    "- work_phone    : (obj)일하는 폰을 가졌는지? 여부?\n",
    "- phone         : (obj)전화기 소유 여부??\n",
    "- email         : (obj)이메일 소유 여부\n",
    "- occyp_type    : (obj)직업코드(얘만 결측치 존재)\n",
    "- family_size   : (int)가족인원 수\n",
    "- begin_month   : (int)시작한 월수\n",
    "- credit        : (label) 신용등급"
   ]
  },
  {
   "cell_type": "code",
   "execution_count": 6,
   "metadata": {},
   "outputs": [],
   "source": [
    "# column 다 소문자로\n",
    "train.columns = train.columns.str.lower()\n",
    "test.columns = test.columns.str.lower()"
   ]
  },
  {
   "cell_type": "markdown",
   "metadata": {},
   "source": [
    "## 간단한 EDA"
   ]
  },
  {
   "cell_type": "code",
   "execution_count": 7,
   "metadata": {},
   "outputs": [
    {
     "data": {
      "text/html": [
       "<div>\n",
       "<style scoped>\n",
       "    .dataframe tbody tr th:only-of-type {\n",
       "        vertical-align: middle;\n",
       "    }\n",
       "\n",
       "    .dataframe tbody tr th {\n",
       "        vertical-align: top;\n",
       "    }\n",
       "\n",
       "    .dataframe thead th {\n",
       "        text-align: right;\n",
       "    }\n",
       "</style>\n",
       "<table border=\"1\" class=\"dataframe\">\n",
       "  <thead>\n",
       "    <tr style=\"text-align: right;\">\n",
       "      <th></th>\n",
       "      <th>index</th>\n",
       "      <th>child_num</th>\n",
       "      <th>income_total</th>\n",
       "      <th>days_birth</th>\n",
       "      <th>days_employed</th>\n",
       "      <th>flag_mobil</th>\n",
       "      <th>work_phone</th>\n",
       "      <th>phone</th>\n",
       "      <th>email</th>\n",
       "      <th>family_size</th>\n",
       "      <th>begin_month</th>\n",
       "      <th>credit</th>\n",
       "    </tr>\n",
       "  </thead>\n",
       "  <tbody>\n",
       "    <tr>\n",
       "      <td>count</td>\n",
       "      <td>26457.000000</td>\n",
       "      <td>26457.000000</td>\n",
       "      <td>2.645700e+04</td>\n",
       "      <td>26457.000000</td>\n",
       "      <td>26457.000000</td>\n",
       "      <td>26457.0</td>\n",
       "      <td>26457.000000</td>\n",
       "      <td>26457.000000</td>\n",
       "      <td>26457.000000</td>\n",
       "      <td>26457.000000</td>\n",
       "      <td>26457.000000</td>\n",
       "      <td>26457.000000</td>\n",
       "    </tr>\n",
       "    <tr>\n",
       "      <td>mean</td>\n",
       "      <td>13228.000000</td>\n",
       "      <td>0.428658</td>\n",
       "      <td>1.873065e+05</td>\n",
       "      <td>-15958.053899</td>\n",
       "      <td>59068.750728</td>\n",
       "      <td>1.0</td>\n",
       "      <td>0.224742</td>\n",
       "      <td>0.294251</td>\n",
       "      <td>0.091280</td>\n",
       "      <td>2.196848</td>\n",
       "      <td>-26.123294</td>\n",
       "      <td>1.519560</td>\n",
       "    </tr>\n",
       "    <tr>\n",
       "      <td>std</td>\n",
       "      <td>7637.622372</td>\n",
       "      <td>0.747326</td>\n",
       "      <td>1.018784e+05</td>\n",
       "      <td>4201.589022</td>\n",
       "      <td>137475.427503</td>\n",
       "      <td>0.0</td>\n",
       "      <td>0.417420</td>\n",
       "      <td>0.455714</td>\n",
       "      <td>0.288013</td>\n",
       "      <td>0.916717</td>\n",
       "      <td>16.559550</td>\n",
       "      <td>0.702283</td>\n",
       "    </tr>\n",
       "    <tr>\n",
       "      <td>min</td>\n",
       "      <td>0.000000</td>\n",
       "      <td>0.000000</td>\n",
       "      <td>2.700000e+04</td>\n",
       "      <td>-25152.000000</td>\n",
       "      <td>-15713.000000</td>\n",
       "      <td>1.0</td>\n",
       "      <td>0.000000</td>\n",
       "      <td>0.000000</td>\n",
       "      <td>0.000000</td>\n",
       "      <td>1.000000</td>\n",
       "      <td>-60.000000</td>\n",
       "      <td>0.000000</td>\n",
       "    </tr>\n",
       "    <tr>\n",
       "      <td>25%</td>\n",
       "      <td>6614.000000</td>\n",
       "      <td>0.000000</td>\n",
       "      <td>1.215000e+05</td>\n",
       "      <td>-19431.000000</td>\n",
       "      <td>-3153.000000</td>\n",
       "      <td>1.0</td>\n",
       "      <td>0.000000</td>\n",
       "      <td>0.000000</td>\n",
       "      <td>0.000000</td>\n",
       "      <td>2.000000</td>\n",
       "      <td>-39.000000</td>\n",
       "      <td>1.000000</td>\n",
       "    </tr>\n",
       "    <tr>\n",
       "      <td>50%</td>\n",
       "      <td>13228.000000</td>\n",
       "      <td>0.000000</td>\n",
       "      <td>1.575000e+05</td>\n",
       "      <td>-15547.000000</td>\n",
       "      <td>-1539.000000</td>\n",
       "      <td>1.0</td>\n",
       "      <td>0.000000</td>\n",
       "      <td>0.000000</td>\n",
       "      <td>0.000000</td>\n",
       "      <td>2.000000</td>\n",
       "      <td>-24.000000</td>\n",
       "      <td>2.000000</td>\n",
       "    </tr>\n",
       "    <tr>\n",
       "      <td>75%</td>\n",
       "      <td>19842.000000</td>\n",
       "      <td>1.000000</td>\n",
       "      <td>2.250000e+05</td>\n",
       "      <td>-12446.000000</td>\n",
       "      <td>-407.000000</td>\n",
       "      <td>1.0</td>\n",
       "      <td>0.000000</td>\n",
       "      <td>1.000000</td>\n",
       "      <td>0.000000</td>\n",
       "      <td>3.000000</td>\n",
       "      <td>-12.000000</td>\n",
       "      <td>2.000000</td>\n",
       "    </tr>\n",
       "    <tr>\n",
       "      <td>max</td>\n",
       "      <td>26456.000000</td>\n",
       "      <td>19.000000</td>\n",
       "      <td>1.575000e+06</td>\n",
       "      <td>-7705.000000</td>\n",
       "      <td>365243.000000</td>\n",
       "      <td>1.0</td>\n",
       "      <td>1.000000</td>\n",
       "      <td>1.000000</td>\n",
       "      <td>1.000000</td>\n",
       "      <td>20.000000</td>\n",
       "      <td>0.000000</td>\n",
       "      <td>2.000000</td>\n",
       "    </tr>\n",
       "  </tbody>\n",
       "</table>\n",
       "</div>"
      ],
      "text/plain": [
       "              index     child_num  income_total    days_birth  days_employed  \\\n",
       "count  26457.000000  26457.000000  2.645700e+04  26457.000000   26457.000000   \n",
       "mean   13228.000000      0.428658  1.873065e+05 -15958.053899   59068.750728   \n",
       "std     7637.622372      0.747326  1.018784e+05   4201.589022  137475.427503   \n",
       "min        0.000000      0.000000  2.700000e+04 -25152.000000  -15713.000000   \n",
       "25%     6614.000000      0.000000  1.215000e+05 -19431.000000   -3153.000000   \n",
       "50%    13228.000000      0.000000  1.575000e+05 -15547.000000   -1539.000000   \n",
       "75%    19842.000000      1.000000  2.250000e+05 -12446.000000    -407.000000   \n",
       "max    26456.000000     19.000000  1.575000e+06  -7705.000000  365243.000000   \n",
       "\n",
       "       flag_mobil    work_phone         phone         email   family_size  \\\n",
       "count     26457.0  26457.000000  26457.000000  26457.000000  26457.000000   \n",
       "mean          1.0      0.224742      0.294251      0.091280      2.196848   \n",
       "std           0.0      0.417420      0.455714      0.288013      0.916717   \n",
       "min           1.0      0.000000      0.000000      0.000000      1.000000   \n",
       "25%           1.0      0.000000      0.000000      0.000000      2.000000   \n",
       "50%           1.0      0.000000      0.000000      0.000000      2.000000   \n",
       "75%           1.0      0.000000      1.000000      0.000000      3.000000   \n",
       "max           1.0      1.000000      1.000000      1.000000     20.000000   \n",
       "\n",
       "        begin_month        credit  \n",
       "count  26457.000000  26457.000000  \n",
       "mean     -26.123294      1.519560  \n",
       "std       16.559550      0.702283  \n",
       "min      -60.000000      0.000000  \n",
       "25%      -39.000000      1.000000  \n",
       "50%      -24.000000      2.000000  \n",
       "75%      -12.000000      2.000000  \n",
       "max        0.000000      2.000000  "
      ]
     },
     "execution_count": 7,
     "metadata": {},
     "output_type": "execute_result"
    }
   ],
   "source": [
    "train.describe()"
   ]
  },
  {
   "cell_type": "code",
   "execution_count": 8,
   "metadata": {},
   "outputs": [
    {
     "name": "stdout",
     "output_type": "stream",
     "text": [
      "income_type: 5\n",
      "edu_type: 5\n",
      "family_type: 5\n",
      "house_type: 6\n",
      "occyp_type: 18\n"
     ]
    }
   ],
   "source": [
    "print('income_type:', train.income_type.nunique())\n",
    "print('edu_type:', train.edu_type.nunique())\n",
    "print('family_type:', train.family_type.nunique())\n",
    "print('house_type:', train.house_type.nunique())\n",
    "print('occyp_type:', train.occyp_type.nunique())"
   ]
  },
  {
   "cell_type": "code",
   "execution_count": 9,
   "metadata": {},
   "outputs": [
    {
     "data": {
      "text/plain": [
       "Laborers                 4512\n",
       "Core staff               2646\n",
       "Sales staff              2539\n",
       "Managers                 2167\n",
       "Drivers                  1575\n",
       "High skill tech staff    1040\n",
       "Accountants               902\n",
       "Medicine staff            864\n",
       "Cooking staff             457\n",
       "Security staff            424\n",
       "Cleaning staff            403\n",
       "Private service staff     243\n",
       "Low-skill Laborers        127\n",
       "Waiters/barmen staff      124\n",
       "Secretaries                97\n",
       "Realty agents              63\n",
       "HR staff                   62\n",
       "IT staff                   41\n",
       "Name: occyp_type, dtype: int64"
      ]
     },
     "execution_count": 9,
     "metadata": {},
     "output_type": "execute_result"
    }
   ],
   "source": [
    "train.occyp_type.value_counts()"
   ]
  },
  {
   "cell_type": "markdown",
   "metadata": {},
   "source": [
    "occyp_type의 수가 너무 많으므로 적당한 그룹핑이 있으면 좋을 것 같다(5개 이내로?)"
   ]
  },
  {
   "cell_type": "code",
   "execution_count": 10,
   "metadata": {},
   "outputs": [
    {
     "data": {
      "text/plain": [
       "House / apartment      23653\n",
       "With parents            1257\n",
       "Municipal apartment      818\n",
       "Rented apartment         429\n",
       "Office apartment         190\n",
       "Co-op apartment          110\n",
       "Name: house_type, dtype: int64"
      ]
     },
     "execution_count": 10,
     "metadata": {},
     "output_type": "execute_result"
    }
   ],
   "source": [
    "train.house_type.value_counts()"
   ]
  },
  {
   "cell_type": "markdown",
   "metadata": {},
   "source": [
    "## 데이터 전처리\n",
    "- class가 두개인 카테고리 변수(ex) 성별, ~ 여부 등) 은 1, 0으로 바꾸기\n",
    "- class가 여러개인 카테고리 변수는 원핫 인코딩 하기\n",
    "- class가 너무 많은 변수(직업코드)는 그룹핑하기\n",
    "- 음수인 숫자형 변수들은 양수로 바꾸기(안그래도 되지만 직관적으로 보기 편하게)"
   ]
  },
  {
   "cell_type": "code",
   "execution_count": 11,
   "metadata": {},
   "outputs": [
    {
     "data": {
      "text/plain": [
       "Index(['index', 'gender', 'car', 'reality', 'child_num', 'income_total',\n",
       "       'income_type', 'edu_type', 'family_type', 'house_type', 'days_birth',\n",
       "       'days_employed', 'flag_mobil', 'work_phone', 'phone', 'email',\n",
       "       'occyp_type', 'family_size', 'begin_month', 'credit'],\n",
       "      dtype='object')"
      ]
     },
     "execution_count": 11,
     "metadata": {},
     "output_type": "execute_result"
    }
   ],
   "source": [
    "train.columns"
   ]
  },
  {
   "cell_type": "code",
   "execution_count": 12,
   "metadata": {},
   "outputs": [],
   "source": [
    "train_cp = train.copy()\n",
    "test_cp = test.copy()"
   ]
  },
  {
   "cell_type": "code",
   "execution_count": 13,
   "metadata": {},
   "outputs": [],
   "source": [
    "train_cp.gender = np.where(train_cp.gender == 'F', 1, 0) # 여자면 1, 남자면 0\n",
    "train_cp.car = np.where(train_cp.car == 'Y', 1, 0) # 차 보유 하면 1, 아니면 0\n",
    "train_cp.reality = np.where(train_cp.reality == 'Y', 1, 0) # reality 가 Y면 1, N이면 0\n",
    "\n",
    "test_cp.gender = np.where(test_cp.gender == 'F', 1, 0) # 여자면 1, 남자면 0\n",
    "test_cp.car = np.where(test_cp.car == 'Y', 1, 0) # 차 보유 하면 1, 아니면 0\n",
    "test_cp.reality = np.where(test_cp.reality == 'Y', 1, 0) # reality 가 Y면 1, N이면 0"
   ]
  },
  {
   "cell_type": "code",
   "execution_count": 14,
   "metadata": {},
   "outputs": [],
   "source": [
    "## 카테고리컬럼 더미화(원핫인코딩) 하기\n",
    "train_cp.occyp_type = train_cp.occyp_type.fillna('nan')\n",
    "test_cp.occyp_type = test_cp.occyp_type.fillna('nan')\n",
    "\n",
    "cat_col = ['income_type', 'edu_type', 'family_type', 'house_type','occyp_type']\n",
    "\n",
    "dummy_tr = pd.get_dummies(train_cp[cat_col])\n",
    "train_cp = pd.concat([train_cp, dummy_tr], axis = 1)\n",
    "train_cp.drop(columns = cat_col, inplace = True)\n",
    "\n",
    "dummy_te = pd.get_dummies(test_cp[cat_col])\n",
    "test_cp = pd.concat([test_cp, dummy_te], axis = 1)\n",
    "test_cp.drop(columns = cat_col, inplace = True)"
   ]
  },
  {
   "cell_type": "code",
   "execution_count": 15,
   "metadata": {},
   "outputs": [],
   "source": [
    "## 마이너스인 것들 양수화 시키기\n",
    "train_cp.days_birth = train_cp.days_birth.astype('uint8')\n",
    "train_cp.begin_month = train_cp.begin_month.astype('uint8')\n",
    "train_cp.days_employed = train_cp.days_employed.astype('uint8')\n",
    "\n",
    "test_cp.days_birth = test_cp.days_birth.astype('uint8')\n",
    "test_cp.begin_month = test_cp.begin_month.astype('uint8')\n",
    "test_cp.days_employed = test_cp.days_employed.astype('uint8')"
   ]
  },
  {
   "cell_type": "code",
   "execution_count": 16,
   "metadata": {},
   "outputs": [],
   "source": [
    "# ## 일단 직업코드는 너무 많으니까 그룹핑 빼자\n",
    "# train_cp.drop(columns = 'occyp_type', inplace = True)\n",
    "# test_cp.drop(columns = 'occyp_type', inplace = True)"
   ]
  },
  {
   "cell_type": "code",
   "execution_count": 17,
   "metadata": {},
   "outputs": [],
   "source": [
    "train_cp.income_total = np.where(train_cp.income_total < np.quantile(train_cp.income_total,0.01),np.quantile(train_cp.income_total,0.01),\n",
    "                                 np.where(train_cp.income_total > np.quantile(train_cp.income_total,0.99),np.quantile(train_cp.income_total,0.99),\n",
    "                                          train_cp.income_total))\n",
    "train_cp.days_birth = np.where(train_cp.days_birth < np.quantile(train_cp.days_birth,0.01),np.quantile(train_cp.days_birth,0.01),\n",
    "                                 np.where(train_cp.days_birth > np.quantile(train_cp.days_birth,0.99),np.quantile(train_cp.days_birth,0.99),\n",
    "                                          train_cp.days_birth))\n",
    "train_cp.days_employed = np.where(train_cp.days_employed < np.quantile(train_cp.days_employed,0.01),np.quantile(train_cp.days_employed,0.01),\n",
    "                                 np.where(train_cp.days_employed > np.quantile(train_cp.days_employed,0.99),np.quantile(train_cp.days_employed,0.99),\n",
    "                                          train_cp.days_employed))\n",
    "train_cp.begin_month = np.where(train_cp.begin_month < np.quantile(train_cp.begin_month,0.01),np.quantile(train_cp.begin_month,0.01),\n",
    "                                 np.where(train_cp.begin_month > np.quantile(train_cp.begin_month,0.99),np.quantile(train_cp.begin_month,0.99),\n",
    "                                          train_cp.begin_month))\n",
    "\n",
    "test_cp.income_total = np.where(test_cp.income_total < np.quantile(train_cp.income_total,0.01),np.quantile(train_cp.income_total,0.01),\n",
    "                                 np.where(test_cp.income_total > np.quantile(train_cp.income_total,0.99),np.quantile(train_cp.income_total,0.99),\n",
    "                                          test_cp.income_total))\n",
    "test_cp.days_birth = np.where(test_cp.days_birth < np.quantile(train_cp.days_birth,0.01),np.quantile(train_cp.days_birth,0.01),\n",
    "                                 np.where(test_cp.days_birth > np.quantile(train_cp.days_birth,0.99),np.quantile(train_cp.days_birth,0.99),\n",
    "                                          test_cp.days_birth))\n",
    "test_cp.days_employed = np.where(test_cp.days_employed < np.quantile(train_cp.days_employed,0.01),np.quantile(train_cp.days_employed,0.01),\n",
    "                                 np.where(test_cp.days_employed > np.quantile(train_cp.days_employed,0.99),np.quantile(train_cp.days_employed,0.99),\n",
    "                                          test_cp.days_employed))\n",
    "test_cp.begin_month = np.where(test_cp.begin_month < np.quantile(train_cp.begin_month,0.01),np.quantile(train_cp.begin_month,0.01),\n",
    "                                 np.where(test_cp.begin_month > np.quantile(train_cp.begin_month,0.99),np.quantile(train_cp.begin_month,0.99),\n",
    "                                          test_cp.begin_month))"
   ]
  },
  {
   "cell_type": "code",
   "execution_count": 18,
   "metadata": {},
   "outputs": [],
   "source": [
    "from sklearn.preprocessing import MinMaxScaler, StandardScaler, Normalizer"
   ]
  },
  {
   "cell_type": "code",
   "execution_count": 19,
   "metadata": {},
   "outputs": [],
   "source": [
    "ss = StandardScaler()\n",
    "\n",
    "train_cp.income_total = ss.fit_transform(train_cp.income_total.values.reshape(-1,1)).squeeze()\n",
    "test_cp.income_total = ss.transform(test_cp.income_total.values.reshape(-1,1)).squeeze()\n",
    "\n",
    "train_cp.days_birth = ss.fit_transform(train_cp.days_birth.values.reshape(-1,1)).squeeze()\n",
    "test_cp.days_birth = ss.transform(test_cp.days_birth.values.reshape(-1,1)).squeeze()\n",
    "\n",
    "train_cp.days_employed = ss.fit_transform(train_cp.days_employed.values.reshape(-1,1)).squeeze()\n",
    "test_cp.days_employed = ss.transform(test_cp.days_employed.values.reshape(-1,1)).squeeze()\n",
    "\n",
    "train_cp.begin_month = ss.fit_transform(train_cp.begin_month.values.reshape(-1,1)).squeeze()\n",
    "test_cp.begin_month = ss.transform(test_cp.begin_month.values.reshape(-1,1)).squeeze()"
   ]
  },
  {
   "cell_type": "code",
   "execution_count": 21,
   "metadata": {},
   "outputs": [
    {
     "data": {
      "text/plain": [
       "<seaborn.axisgrid.FacetGrid at 0x28ebb8e2708>"
      ]
     },
     "execution_count": 21,
     "metadata": {},
     "output_type": "execute_result"
    },
    {
     "data": {
      "image/png": "[encoded data removed]",
      "text/plain": [
       "<Figure size 360x360 with 1 Axes>"
      ]
     },
     "metadata": {
      "needs_background": "light"
     },
     "output_type": "display_data"
    }
   ],
   "source": [
    "import seaborn as sns\n",
    "\n",
    "sns.displot(train_cp.days_employed)"
   ]
  },
  {
   "cell_type": "markdown",
   "metadata": {},
   "source": [
    "## Modeling"
   ]
  },
  {
   "cell_type": "code",
   "execution_count": 20,
   "metadata": {},
   "outputs": [
    {
     "name": "stdout",
     "output_type": "stream",
     "text": [
      "(26457, 53)\n",
      "(10000, 53)\n"
     ]
    }
   ],
   "source": [
    "## X 인자 크기가 동일한지 확인\n",
    "print(train_cp.drop(columns = ['credit','index']).shape) # y 빼기\n",
    "print(test_cp.drop(columns = ['index']).shape) "
   ]
  },
  {
   "cell_type": "code",
   "execution_count": 21,
   "metadata": {},
   "outputs": [
    {
     "data": {
      "text/plain": [
       "0"
      ]
     },
     "execution_count": 21,
     "metadata": {},
     "output_type": "execute_result"
    }
   ],
   "source": [
    "# 혹시나 컬럼 순서가 안맞는게 있는지 획인(0이어야 정상)\n",
    "sum(train_cp.drop(columns = ['credit','index']).columns != test_cp.drop(columns = ['index']).columns)"
   ]
  },
  {
   "cell_type": "code",
   "execution_count": 22,
   "metadata": {},
   "outputs": [],
   "source": [
    "X_train = train_cp.drop(columns = ['credit','index']).values\n",
    "y_train = train_cp.credit.astype(int).astype(str).values"
   ]
  },
  {
   "cell_type": "code",
   "execution_count": 23,
   "metadata": {},
   "outputs": [],
   "source": [
    "X_test = test_cp.drop(columns = ['index']).values"
   ]
  },
  {
   "cell_type": "code",
   "execution_count": 24,
   "metadata": {},
   "outputs": [],
   "source": [
    "# from sklearn.ensemble import RandomForestClassifier, GradientBoostingClassifier\n",
    "from sklearn.model_selection import cross_val_score"
   ]
  },
  {
   "cell_type": "code",
   "execution_count": 25,
   "metadata": {
    "scrolled": true
   },
   "outputs": [
    {
     "name": "stdout",
     "output_type": "stream",
     "text": [
      "Fitting 5 folds for each of 36 candidates, totalling 180 fits\n",
      "[CV] learning_rate=0.1, max_depth=5, n_estimators=500, num_leaves=70 .\n"
     ]
    },
    {
     "name": "stderr",
     "output_type": "stream",
     "text": [
      "[Parallel(n_jobs=1)]: Using backend SequentialBackend with 1 concurrent workers.\n"
     ]
    },
    {
     "name": "stdout",
     "output_type": "stream",
     "text": [
      "[CV]  learning_rate=0.1, max_depth=5, n_estimators=500, num_leaves=70, score=0.704, total=   4.0s\n",
      "[CV] learning_rate=0.1, max_depth=5, n_estimators=500, num_leaves=70 .\n"
     ]
    },
    {
     "name": "stderr",
     "output_type": "stream",
     "text": [
      "[Parallel(n_jobs=1)]: Done   1 out of   1 | elapsed:    3.9s remaining:    0.0s\n"
     ]
    },
    {
     "name": "stdout",
     "output_type": "stream",
     "text": [
      "[CV]  learning_rate=0.1, max_depth=5, n_estimators=500, num_leaves=70, score=0.711, total=   4.0s\n",
      "[CV] learning_rate=0.1, max_depth=5, n_estimators=500, num_leaves=70 .\n"
     ]
    },
    {
     "name": "stderr",
     "output_type": "stream",
     "text": [
      "[Parallel(n_jobs=1)]: Done   2 out of   2 | elapsed:    7.9s remaining:    0.0s\n"
     ]
    },
    {
     "name": "stdout",
     "output_type": "stream",
     "text": [
      "[CV]  learning_rate=0.1, max_depth=5, n_estimators=500, num_leaves=70, score=0.703, total=   3.9s\n",
      "[CV] learning_rate=0.1, max_depth=5, n_estimators=500, num_leaves=70 .\n"
     ]
    },
    {
     "name": "stderr",
     "output_type": "stream",
     "text": [
      "[Parallel(n_jobs=1)]: Done   3 out of   3 | elapsed:   11.8s remaining:    0.0s\n"
     ]
    },
    {
     "name": "stdout",
     "output_type": "stream",
     "text": [
      "[CV]  learning_rate=0.1, max_depth=5, n_estimators=500, num_leaves=70, score=0.707, total=   4.3s\n",
      "[CV] learning_rate=0.1, max_depth=5, n_estimators=500, num_leaves=70 .\n"
     ]
    },
    {
     "name": "stderr",
     "output_type": "stream",
     "text": [
      "[Parallel(n_jobs=1)]: Done   4 out of   4 | elapsed:   16.1s remaining:    0.0s\n"
     ]
    },
    {
     "name": "stdout",
     "output_type": "stream",
     "text": [
      "[CV]  learning_rate=0.1, max_depth=5, n_estimators=500, num_leaves=70, score=0.702, total=   4.1s\n",
      "[CV] learning_rate=0.1, max_depth=5, n_estimators=500, num_leaves=100 \n",
      "[CV]  learning_rate=0.1, max_depth=5, n_estimators=500, num_leaves=100, score=0.704, total=   3.9s\n",
      "[CV] learning_rate=0.1, max_depth=5, n_estimators=500, num_leaves=100 \n",
      "[CV]  learning_rate=0.1, max_depth=5, n_estimators=500, num_leaves=100, score=0.711, total=   4.8s\n",
      "[CV] learning_rate=0.1, max_depth=5, n_estimators=500, num_leaves=100 \n",
      "[CV]  learning_rate=0.1, max_depth=5, n_estimators=500, num_leaves=100, score=0.703, total=   4.4s\n",
      "[CV] learning_rate=0.1, max_depth=5, n_estimators=500, num_leaves=100 \n",
      "[CV]  learning_rate=0.1, max_depth=5, n_estimators=500, num_leaves=100, score=0.707, total=   4.3s\n",
      "[CV] learning_rate=0.1, max_depth=5, n_estimators=500, num_leaves=100 \n",
      "[CV]  learning_rate=0.1, max_depth=5, n_estimators=500, num_leaves=100, score=0.702, total=   4.7s\n",
      "[CV] learning_rate=0.1, max_depth=5, n_estimators=700, num_leaves=70 .\n",
      "[CV]  learning_rate=0.1, max_depth=5, n_estimators=700, num_leaves=70, score=0.707, total=   6.0s\n",
      "[CV] learning_rate=0.1, max_depth=5, n_estimators=700, num_leaves=70 .\n",
      "[CV]  learning_rate=0.1, max_depth=5, n_estimators=700, num_leaves=70, score=0.711, total=   5.5s\n",
      "[CV] learning_rate=0.1, max_depth=5, n_estimators=700, num_leaves=70 .\n",
      "[CV]  learning_rate=0.1, max_depth=5, n_estimators=700, num_leaves=70, score=0.705, total=   5.4s\n",
      "[CV] learning_rate=0.1, max_depth=5, n_estimators=700, num_leaves=70 .\n",
      "[CV]  learning_rate=0.1, max_depth=5, n_estimators=700, num_leaves=70, score=0.710, total=   5.8s\n",
      "[CV] learning_rate=0.1, max_depth=5, n_estimators=700, num_leaves=70 .\n",
      "[CV]  learning_rate=0.1, max_depth=5, n_estimators=700, num_leaves=70, score=0.703, total=   5.7s\n",
      "[CV] learning_rate=0.1, max_depth=5, n_estimators=700, num_leaves=100 \n",
      "[CV]  learning_rate=0.1, max_depth=5, n_estimators=700, num_leaves=100, score=0.707, total=   5.6s\n",
      "[CV] learning_rate=0.1, max_depth=5, n_estimators=700, num_leaves=100 \n",
      "[CV]  learning_rate=0.1, max_depth=5, n_estimators=700, num_leaves=100, score=0.711, total=   5.6s\n",
      "[CV] learning_rate=0.1, max_depth=5, n_estimators=700, num_leaves=100 \n",
      "[CV]  learning_rate=0.1, max_depth=5, n_estimators=700, num_leaves=100, score=0.705, total=   5.4s\n",
      "[CV] learning_rate=0.1, max_depth=5, n_estimators=700, num_leaves=100 \n",
      "[CV]  learning_rate=0.1, max_depth=5, n_estimators=700, num_leaves=100, score=0.710, total=   6.0s\n",
      "[CV] learning_rate=0.1, max_depth=5, n_estimators=700, num_leaves=100 \n",
      "[CV]  learning_rate=0.1, max_depth=5, n_estimators=700, num_leaves=100, score=0.703, total=   6.4s\n",
      "[CV] learning_rate=0.1, max_depth=5, n_estimators=1000, num_leaves=70 \n",
      "[CV]  learning_rate=0.1, max_depth=5, n_estimators=1000, num_leaves=70, score=0.709, total=   8.5s\n",
      "[CV] learning_rate=0.1, max_depth=5, n_estimators=1000, num_leaves=70 \n",
      "[CV]  learning_rate=0.1, max_depth=5, n_estimators=1000, num_leaves=70, score=0.710, total=   9.5s\n",
      "[CV] learning_rate=0.1, max_depth=5, n_estimators=1000, num_leaves=70 \n",
      "[CV]  learning_rate=0.1, max_depth=5, n_estimators=1000, num_leaves=70, score=0.702, total=   9.7s\n",
      "[CV] learning_rate=0.1, max_depth=5, n_estimators=1000, num_leaves=70 \n",
      "[CV]  learning_rate=0.1, max_depth=5, n_estimators=1000, num_leaves=70, score=0.709, total=   8.9s\n",
      "[CV] learning_rate=0.1, max_depth=5, n_estimators=1000, num_leaves=70 \n",
      "[CV]  learning_rate=0.1, max_depth=5, n_estimators=1000, num_leaves=70, score=0.705, total=  11.7s\n",
      "[CV] learning_rate=0.1, max_depth=5, n_estimators=1000, num_leaves=100 \n",
      "[CV]  learning_rate=0.1, max_depth=5, n_estimators=1000, num_leaves=100, score=0.709, total=   8.6s\n",
      "[CV] learning_rate=0.1, max_depth=5, n_estimators=1000, num_leaves=100 \n",
      "[CV]  learning_rate=0.1, max_depth=5, n_estimators=1000, num_leaves=100, score=0.710, total=   9.1s\n",
      "[CV] learning_rate=0.1, max_depth=5, n_estimators=1000, num_leaves=100 \n",
      "[CV]  learning_rate=0.1, max_depth=5, n_estimators=1000, num_leaves=100, score=0.702, total=  12.1s\n",
      "[CV] learning_rate=0.1, max_depth=5, n_estimators=1000, num_leaves=100 \n",
      "[CV]  learning_rate=0.1, max_depth=5, n_estimators=1000, num_leaves=100, score=0.709, total=   9.1s\n",
      "[CV] learning_rate=0.1, max_depth=5, n_estimators=1000, num_leaves=100 \n",
      "[CV]  learning_rate=0.1, max_depth=5, n_estimators=1000, num_leaves=100, score=0.705, total=   8.8s\n",
      "[CV] learning_rate=0.1, max_depth=7, n_estimators=500, num_leaves=70 .\n",
      "[CV]  learning_rate=0.1, max_depth=7, n_estimators=500, num_leaves=70, score=0.712, total=   6.7s\n",
      "[CV] learning_rate=0.1, max_depth=7, n_estimators=500, num_leaves=70 .\n",
      "[CV]  learning_rate=0.1, max_depth=7, n_estimators=500, num_leaves=70, score=0.711, total=   6.8s\n",
      "[CV] learning_rate=0.1, max_depth=7, n_estimators=500, num_leaves=70 .\n",
      "[CV]  learning_rate=0.1, max_depth=7, n_estimators=500, num_leaves=70, score=0.704, total=   7.5s\n",
      "[CV] learning_rate=0.1, max_depth=7, n_estimators=500, num_leaves=70 .\n",
      "[CV]  learning_rate=0.1, max_depth=7, n_estimators=500, num_leaves=70, score=0.707, total=   8.0s\n",
      "[CV] learning_rate=0.1, max_depth=7, n_estimators=500, num_leaves=70 .\n",
      "[CV]  learning_rate=0.1, max_depth=7, n_estimators=500, num_leaves=70, score=0.702, total=   7.9s\n",
      "[CV] learning_rate=0.1, max_depth=7, n_estimators=500, num_leaves=100 \n",
      "[CV]  learning_rate=0.1, max_depth=7, n_estimators=500, num_leaves=100, score=0.710, total=   7.5s\n",
      "[CV] learning_rate=0.1, max_depth=7, n_estimators=500, num_leaves=100 \n",
      "[CV]  learning_rate=0.1, max_depth=7, n_estimators=500, num_leaves=100, score=0.713, total=   7.0s\n",
      "[CV] learning_rate=0.1, max_depth=7, n_estimators=500, num_leaves=100 \n",
      "[CV]  learning_rate=0.1, max_depth=7, n_estimators=500, num_leaves=100, score=0.706, total=   7.6s\n",
      "[CV] learning_rate=0.1, max_depth=7, n_estimators=500, num_leaves=100 \n",
      "[CV]  learning_rate=0.1, max_depth=7, n_estimators=500, num_leaves=100, score=0.711, total=   7.7s\n",
      "[CV] learning_rate=0.1, max_depth=7, n_estimators=500, num_leaves=100 \n",
      "[CV]  learning_rate=0.1, max_depth=7, n_estimators=500, num_leaves=100, score=0.702, total=   7.0s\n",
      "[CV] learning_rate=0.1, max_depth=7, n_estimators=700, num_leaves=70 .\n",
      "[CV]  learning_rate=0.1, max_depth=7, n_estimators=700, num_leaves=70, score=0.708, total=  10.3s\n",
      "[CV] learning_rate=0.1, max_depth=7, n_estimators=700, num_leaves=70 .\n",
      "[CV]  learning_rate=0.1, max_depth=7, n_estimators=700, num_leaves=70, score=0.713, total=   9.6s\n",
      "[CV] learning_rate=0.1, max_depth=7, n_estimators=700, num_leaves=70 .\n",
      "[CV]  learning_rate=0.1, max_depth=7, n_estimators=700, num_leaves=70, score=0.703, total=   9.1s\n",
      "[CV] learning_rate=0.1, max_depth=7, n_estimators=700, num_leaves=70 .\n",
      "[CV]  learning_rate=0.1, max_depth=7, n_estimators=700, num_leaves=70, score=0.703, total=  10.2s\n",
      "[CV] learning_rate=0.1, max_depth=7, n_estimators=700, num_leaves=70 .\n",
      "[CV]  learning_rate=0.1, max_depth=7, n_estimators=700, num_leaves=70, score=0.699, total=  10.2s\n",
      "[CV] learning_rate=0.1, max_depth=7, n_estimators=700, num_leaves=100 \n",
      "[CV]  learning_rate=0.1, max_depth=7, n_estimators=700, num_leaves=100, score=0.704, total=  12.0s\n",
      "[CV] learning_rate=0.1, max_depth=7, n_estimators=700, num_leaves=100 \n",
      "[CV]  learning_rate=0.1, max_depth=7, n_estimators=700, num_leaves=100, score=0.711, total=  15.8s\n",
      "[CV] learning_rate=0.1, max_depth=7, n_estimators=700, num_leaves=100 \n",
      "[CV]  learning_rate=0.1, max_depth=7, n_estimators=700, num_leaves=100, score=0.707, total=  17.2s\n",
      "[CV] learning_rate=0.1, max_depth=7, n_estimators=700, num_leaves=100 \n",
      "[CV]  learning_rate=0.1, max_depth=7, n_estimators=700, num_leaves=100, score=0.707, total=  11.3s\n",
      "[CV] learning_rate=0.1, max_depth=7, n_estimators=700, num_leaves=100 \n",
      "[CV]  learning_rate=0.1, max_depth=7, n_estimators=700, num_leaves=100, score=0.698, total=  10.5s\n",
      "[CV] learning_rate=0.1, max_depth=7, n_estimators=1000, num_leaves=70 \n",
      "[CV]  learning_rate=0.1, max_depth=7, n_estimators=1000, num_leaves=70, score=0.701, total=  16.8s\n",
      "[CV] learning_rate=0.1, max_depth=7, n_estimators=1000, num_leaves=70 \n",
      "[CV]  learning_rate=0.1, max_depth=7, n_estimators=1000, num_leaves=70, score=0.710, total=  16.1s\n",
      "[CV] learning_rate=0.1, max_depth=7, n_estimators=1000, num_leaves=70 \n",
      "[CV]  learning_rate=0.1, max_depth=7, n_estimators=1000, num_leaves=70, score=0.697, total=  15.7s\n",
      "[CV] learning_rate=0.1, max_depth=7, n_estimators=1000, num_leaves=70 \n"
     ]
    },
    {
     "name": "stdout",
     "output_type": "stream",
     "text": [
      "[CV]  learning_rate=0.1, max_depth=7, n_estimators=1000, num_leaves=70, score=0.702, total=  16.0s\n",
      "[CV] learning_rate=0.1, max_depth=7, n_estimators=1000, num_leaves=70 \n",
      "[CV]  learning_rate=0.1, max_depth=7, n_estimators=1000, num_leaves=70, score=0.696, total=  14.5s\n",
      "[CV] learning_rate=0.1, max_depth=7, n_estimators=1000, num_leaves=100 \n",
      "[CV]  learning_rate=0.1, max_depth=7, n_estimators=1000, num_leaves=100, score=0.700, total=  13.8s\n",
      "[CV] learning_rate=0.1, max_depth=7, n_estimators=1000, num_leaves=100 \n",
      "[CV]  learning_rate=0.1, max_depth=7, n_estimators=1000, num_leaves=100, score=0.709, total=  13.8s\n",
      "[CV] learning_rate=0.1, max_depth=7, n_estimators=1000, num_leaves=100 \n",
      "[CV]  learning_rate=0.1, max_depth=7, n_estimators=1000, num_leaves=100, score=0.697, total=  14.0s\n",
      "[CV] learning_rate=0.1, max_depth=7, n_estimators=1000, num_leaves=100 \n",
      "[CV]  learning_rate=0.1, max_depth=7, n_estimators=1000, num_leaves=100, score=0.702, total=  17.1s\n",
      "[CV] learning_rate=0.1, max_depth=7, n_estimators=1000, num_leaves=100 \n",
      "[CV]  learning_rate=0.1, max_depth=7, n_estimators=1000, num_leaves=100, score=0.694, total=  15.0s\n",
      "[CV] learning_rate=0.1, max_depth=10, n_estimators=500, num_leaves=70 \n",
      "[CV]  learning_rate=0.1, max_depth=10, n_estimators=500, num_leaves=70, score=0.700, total=   9.1s\n",
      "[CV] learning_rate=0.1, max_depth=10, n_estimators=500, num_leaves=70 \n",
      "[CV]  learning_rate=0.1, max_depth=10, n_estimators=500, num_leaves=70, score=0.718, total=   8.6s\n",
      "[CV] learning_rate=0.1, max_depth=10, n_estimators=500, num_leaves=70 \n",
      "[CV]  learning_rate=0.1, max_depth=10, n_estimators=500, num_leaves=70, score=0.705, total=   7.8s\n",
      "[CV] learning_rate=0.1, max_depth=10, n_estimators=500, num_leaves=70 \n",
      "[CV]  learning_rate=0.1, max_depth=10, n_estimators=500, num_leaves=70, score=0.705, total=   9.0s\n",
      "[CV] learning_rate=0.1, max_depth=10, n_estimators=500, num_leaves=70 \n",
      "[CV]  learning_rate=0.1, max_depth=10, n_estimators=500, num_leaves=70, score=0.702, total=   9.4s\n",
      "[CV] learning_rate=0.1, max_depth=10, n_estimators=500, num_leaves=100 \n",
      "[CV]  learning_rate=0.1, max_depth=10, n_estimators=500, num_leaves=100, score=0.696, total=  10.3s\n",
      "[CV] learning_rate=0.1, max_depth=10, n_estimators=500, num_leaves=100 \n",
      "[CV]  learning_rate=0.1, max_depth=10, n_estimators=500, num_leaves=100, score=0.715, total=  10.8s\n",
      "[CV] learning_rate=0.1, max_depth=10, n_estimators=500, num_leaves=100 \n",
      "[CV]  learning_rate=0.1, max_depth=10, n_estimators=500, num_leaves=100, score=0.699, total=  11.3s\n",
      "[CV] learning_rate=0.1, max_depth=10, n_estimators=500, num_leaves=100 \n",
      "[CV]  learning_rate=0.1, max_depth=10, n_estimators=500, num_leaves=100, score=0.706, total=  11.2s\n",
      "[CV] learning_rate=0.1, max_depth=10, n_estimators=500, num_leaves=100 \n",
      "[CV]  learning_rate=0.1, max_depth=10, n_estimators=500, num_leaves=100, score=0.695, total=  12.3s\n",
      "[CV] learning_rate=0.1, max_depth=10, n_estimators=700, num_leaves=70 \n",
      "[CV]  learning_rate=0.1, max_depth=10, n_estimators=700, num_leaves=70, score=0.695, total=  11.3s\n",
      "[CV] learning_rate=0.1, max_depth=10, n_estimators=700, num_leaves=70 \n",
      "[CV]  learning_rate=0.1, max_depth=10, n_estimators=700, num_leaves=70, score=0.714, total=  11.1s\n",
      "[CV] learning_rate=0.1, max_depth=10, n_estimators=700, num_leaves=70 \n",
      "[CV]  learning_rate=0.1, max_depth=10, n_estimators=700, num_leaves=70, score=0.699, total=  10.9s\n",
      "[CV] learning_rate=0.1, max_depth=10, n_estimators=700, num_leaves=70 \n",
      "[CV]  learning_rate=0.1, max_depth=10, n_estimators=700, num_leaves=70, score=0.705, total=  12.1s\n",
      "[CV] learning_rate=0.1, max_depth=10, n_estimators=700, num_leaves=70 \n",
      "[CV]  learning_rate=0.1, max_depth=10, n_estimators=700, num_leaves=70, score=0.695, total=  11.8s\n",
      "[CV] learning_rate=0.1, max_depth=10, n_estimators=700, num_leaves=100 \n",
      "[CV]  learning_rate=0.1, max_depth=10, n_estimators=700, num_leaves=100, score=0.696, total=  17.1s\n",
      "[CV] learning_rate=0.1, max_depth=10, n_estimators=700, num_leaves=100 \n",
      "[CV]  learning_rate=0.1, max_depth=10, n_estimators=700, num_leaves=100, score=0.710, total=  17.5s\n",
      "[CV] learning_rate=0.1, max_depth=10, n_estimators=700, num_leaves=100 \n",
      "[CV]  learning_rate=0.1, max_depth=10, n_estimators=700, num_leaves=100, score=0.697, total=  14.3s\n",
      "[CV] learning_rate=0.1, max_depth=10, n_estimators=700, num_leaves=100 \n",
      "[CV]  learning_rate=0.1, max_depth=10, n_estimators=700, num_leaves=100, score=0.702, total=  15.5s\n",
      "[CV] learning_rate=0.1, max_depth=10, n_estimators=700, num_leaves=100 \n",
      "[CV]  learning_rate=0.1, max_depth=10, n_estimators=700, num_leaves=100, score=0.694, total=  17.2s\n",
      "[CV] learning_rate=0.1, max_depth=10, n_estimators=1000, num_leaves=70 \n",
      "[CV]  learning_rate=0.1, max_depth=10, n_estimators=1000, num_leaves=70, score=0.692, total=  18.0s\n",
      "[CV] learning_rate=0.1, max_depth=10, n_estimators=1000, num_leaves=70 \n",
      "[CV]  learning_rate=0.1, max_depth=10, n_estimators=1000, num_leaves=70, score=0.711, total=  15.9s\n",
      "[CV] learning_rate=0.1, max_depth=10, n_estimators=1000, num_leaves=70 \n",
      "[CV]  learning_rate=0.1, max_depth=10, n_estimators=1000, num_leaves=70, score=0.697, total=  16.2s\n",
      "[CV] learning_rate=0.1, max_depth=10, n_estimators=1000, num_leaves=70 \n",
      "[CV]  learning_rate=0.1, max_depth=10, n_estimators=1000, num_leaves=70, score=0.702, total=  17.1s\n",
      "[CV] learning_rate=0.1, max_depth=10, n_estimators=1000, num_leaves=70 \n",
      "[CV]  learning_rate=0.1, max_depth=10, n_estimators=1000, num_leaves=70, score=0.695, total=  17.0s\n",
      "[CV] learning_rate=0.1, max_depth=10, n_estimators=1000, num_leaves=100 \n",
      "[CV]  learning_rate=0.1, max_depth=10, n_estimators=1000, num_leaves=100, score=0.692, total=  25.2s\n",
      "[CV] learning_rate=0.1, max_depth=10, n_estimators=1000, num_leaves=100 \n",
      "[CV]  learning_rate=0.1, max_depth=10, n_estimators=1000, num_leaves=100, score=0.707, total=  20.6s\n",
      "[CV] learning_rate=0.1, max_depth=10, n_estimators=1000, num_leaves=100 \n",
      "[CV]  learning_rate=0.1, max_depth=10, n_estimators=1000, num_leaves=100, score=0.695, total=  22.4s\n",
      "[CV] learning_rate=0.1, max_depth=10, n_estimators=1000, num_leaves=100 \n",
      "[CV]  learning_rate=0.1, max_depth=10, n_estimators=1000, num_leaves=100, score=0.701, total=  23.3s\n",
      "[CV] learning_rate=0.1, max_depth=10, n_estimators=1000, num_leaves=100 \n",
      "[CV]  learning_rate=0.1, max_depth=10, n_estimators=1000, num_leaves=100, score=0.695, total=  22.5s\n",
      "[CV] learning_rate=0.05, max_depth=5, n_estimators=500, num_leaves=70 \n",
      "[CV]  learning_rate=0.05, max_depth=5, n_estimators=500, num_leaves=70, score=0.697, total=   3.8s\n",
      "[CV] learning_rate=0.05, max_depth=5, n_estimators=500, num_leaves=70 \n",
      "[CV]  learning_rate=0.05, max_depth=5, n_estimators=500, num_leaves=70, score=0.699, total=   3.9s\n",
      "[CV] learning_rate=0.05, max_depth=5, n_estimators=500, num_leaves=70 \n",
      "[CV]  learning_rate=0.05, max_depth=5, n_estimators=500, num_leaves=70, score=0.697, total=   3.9s\n",
      "[CV] learning_rate=0.05, max_depth=5, n_estimators=500, num_leaves=70 \n",
      "[CV]  learning_rate=0.05, max_depth=5, n_estimators=500, num_leaves=70, score=0.701, total=   4.4s\n",
      "[CV] learning_rate=0.05, max_depth=5, n_estimators=500, num_leaves=70 \n",
      "[CV]  learning_rate=0.05, max_depth=5, n_estimators=500, num_leaves=70, score=0.698, total=   4.0s\n",
      "[CV] learning_rate=0.05, max_depth=5, n_estimators=500, num_leaves=100 \n",
      "[CV]  learning_rate=0.05, max_depth=5, n_estimators=500, num_leaves=100, score=0.697, total=   3.9s\n",
      "[CV] learning_rate=0.05, max_depth=5, n_estimators=500, num_leaves=100 \n",
      "[CV]  learning_rate=0.05, max_depth=5, n_estimators=500, num_leaves=100, score=0.699, total=   4.0s\n",
      "[CV] learning_rate=0.05, max_depth=5, n_estimators=500, num_leaves=100 \n",
      "[CV]  learning_rate=0.05, max_depth=5, n_estimators=500, num_leaves=100, score=0.697, total=   3.8s\n",
      "[CV] learning_rate=0.05, max_depth=5, n_estimators=500, num_leaves=100 \n",
      "[CV]  learning_rate=0.05, max_depth=5, n_estimators=500, num_leaves=100, score=0.701, total=   4.0s\n",
      "[CV] learning_rate=0.05, max_depth=5, n_estimators=500, num_leaves=100 \n",
      "[CV]  learning_rate=0.05, max_depth=5, n_estimators=500, num_leaves=100, score=0.698, total=   6.3s\n",
      "[CV] learning_rate=0.05, max_depth=5, n_estimators=700, num_leaves=70 \n",
      "[CV]  learning_rate=0.05, max_depth=5, n_estimators=700, num_leaves=70, score=0.700, total=   5.9s\n",
      "[CV] learning_rate=0.05, max_depth=5, n_estimators=700, num_leaves=70 \n"
     ]
    },
    {
     "name": "stdout",
     "output_type": "stream",
     "text": [
      "[CV]  learning_rate=0.05, max_depth=5, n_estimators=700, num_leaves=70, score=0.702, total=   6.3s\n",
      "[CV] learning_rate=0.05, max_depth=5, n_estimators=700, num_leaves=70 \n",
      "[CV]  learning_rate=0.05, max_depth=5, n_estimators=700, num_leaves=70, score=0.698, total=   6.1s\n",
      "[CV] learning_rate=0.05, max_depth=5, n_estimators=700, num_leaves=70 \n",
      "[CV]  learning_rate=0.05, max_depth=5, n_estimators=700, num_leaves=70, score=0.704, total=   5.9s\n",
      "[CV] learning_rate=0.05, max_depth=5, n_estimators=700, num_leaves=70 \n",
      "[CV]  learning_rate=0.05, max_depth=5, n_estimators=700, num_leaves=70, score=0.702, total=   6.2s\n",
      "[CV] learning_rate=0.05, max_depth=5, n_estimators=700, num_leaves=100 \n",
      "[CV]  learning_rate=0.05, max_depth=5, n_estimators=700, num_leaves=100, score=0.700, total=   5.7s\n",
      "[CV] learning_rate=0.05, max_depth=5, n_estimators=700, num_leaves=100 \n",
      "[CV]  learning_rate=0.05, max_depth=5, n_estimators=700, num_leaves=100, score=0.702, total=   5.8s\n",
      "[CV] learning_rate=0.05, max_depth=5, n_estimators=700, num_leaves=100 \n",
      "[CV]  learning_rate=0.05, max_depth=5, n_estimators=700, num_leaves=100, score=0.698, total=   5.3s\n",
      "[CV] learning_rate=0.05, max_depth=5, n_estimators=700, num_leaves=100 \n",
      "[CV]  learning_rate=0.05, max_depth=5, n_estimators=700, num_leaves=100, score=0.704, total=   6.1s\n",
      "[CV] learning_rate=0.05, max_depth=5, n_estimators=700, num_leaves=100 \n",
      "[CV]  learning_rate=0.05, max_depth=5, n_estimators=700, num_leaves=100, score=0.702, total=   6.4s\n",
      "[CV] learning_rate=0.05, max_depth=5, n_estimators=1000, num_leaves=70 \n",
      "[CV]  learning_rate=0.05, max_depth=5, n_estimators=1000, num_leaves=70, score=0.703, total=   7.9s\n",
      "[CV] learning_rate=0.05, max_depth=5, n_estimators=1000, num_leaves=70 \n",
      "[CV]  learning_rate=0.05, max_depth=5, n_estimators=1000, num_leaves=70, score=0.711, total=   8.7s\n",
      "[CV] learning_rate=0.05, max_depth=5, n_estimators=1000, num_leaves=70 \n",
      "[CV]  learning_rate=0.05, max_depth=5, n_estimators=1000, num_leaves=70, score=0.704, total=   7.8s\n",
      "[CV] learning_rate=0.05, max_depth=5, n_estimators=1000, num_leaves=70 \n",
      "[CV]  learning_rate=0.05, max_depth=5, n_estimators=1000, num_leaves=70, score=0.707, total=   8.1s\n",
      "[CV] learning_rate=0.05, max_depth=5, n_estimators=1000, num_leaves=70 \n",
      "[CV]  learning_rate=0.05, max_depth=5, n_estimators=1000, num_leaves=70, score=0.703, total=   8.1s\n",
      "[CV] learning_rate=0.05, max_depth=5, n_estimators=1000, num_leaves=100 \n",
      "[CV]  learning_rate=0.05, max_depth=5, n_estimators=1000, num_leaves=100, score=0.703, total=   9.1s\n",
      "[CV] learning_rate=0.05, max_depth=5, n_estimators=1000, num_leaves=100 \n",
      "[CV]  learning_rate=0.05, max_depth=5, n_estimators=1000, num_leaves=100, score=0.711, total=   8.6s\n",
      "[CV] learning_rate=0.05, max_depth=5, n_estimators=1000, num_leaves=100 \n",
      "[CV]  learning_rate=0.05, max_depth=5, n_estimators=1000, num_leaves=100, score=0.704, total=   8.2s\n",
      "[CV] learning_rate=0.05, max_depth=5, n_estimators=1000, num_leaves=100 \n",
      "[CV]  learning_rate=0.05, max_depth=5, n_estimators=1000, num_leaves=100, score=0.707, total=   8.3s\n",
      "[CV] learning_rate=0.05, max_depth=5, n_estimators=1000, num_leaves=100 \n",
      "[CV]  learning_rate=0.05, max_depth=5, n_estimators=1000, num_leaves=100, score=0.703, total=   8.1s\n",
      "[CV] learning_rate=0.05, max_depth=7, n_estimators=500, num_leaves=70 \n",
      "[CV]  learning_rate=0.05, max_depth=7, n_estimators=500, num_leaves=70, score=0.705, total=   6.6s\n",
      "[CV] learning_rate=0.05, max_depth=7, n_estimators=500, num_leaves=70 \n",
      "[CV]  learning_rate=0.05, max_depth=7, n_estimators=500, num_leaves=70, score=0.712, total=   6.5s\n",
      "[CV] learning_rate=0.05, max_depth=7, n_estimators=500, num_leaves=70 \n",
      "[CV]  learning_rate=0.05, max_depth=7, n_estimators=500, num_leaves=70, score=0.707, total=   6.8s\n",
      "[CV] learning_rate=0.05, max_depth=7, n_estimators=500, num_leaves=70 \n",
      "[CV]  learning_rate=0.05, max_depth=7, n_estimators=500, num_leaves=70, score=0.708, total=   6.7s\n",
      "[CV] learning_rate=0.05, max_depth=7, n_estimators=500, num_leaves=70 \n",
      "[CV]  learning_rate=0.05, max_depth=7, n_estimators=500, num_leaves=70, score=0.702, total=   7.5s\n",
      "[CV] learning_rate=0.05, max_depth=7, n_estimators=500, num_leaves=100 \n",
      "[CV]  learning_rate=0.05, max_depth=7, n_estimators=500, num_leaves=100, score=0.707, total=   8.1s\n",
      "[CV] learning_rate=0.05, max_depth=7, n_estimators=500, num_leaves=100 \n",
      "[CV]  learning_rate=0.05, max_depth=7, n_estimators=500, num_leaves=100, score=0.710, total=   8.6s\n",
      "[CV] learning_rate=0.05, max_depth=7, n_estimators=500, num_leaves=100 \n",
      "[CV]  learning_rate=0.05, max_depth=7, n_estimators=500, num_leaves=100, score=0.704, total=   7.7s\n",
      "[CV] learning_rate=0.05, max_depth=7, n_estimators=500, num_leaves=100 \n",
      "[CV]  learning_rate=0.05, max_depth=7, n_estimators=500, num_leaves=100, score=0.707, total=   8.5s\n",
      "[CV] learning_rate=0.05, max_depth=7, n_estimators=500, num_leaves=100 \n",
      "[CV]  learning_rate=0.05, max_depth=7, n_estimators=500, num_leaves=100, score=0.701, total=   7.4s\n",
      "[CV] learning_rate=0.05, max_depth=7, n_estimators=700, num_leaves=70 \n",
      "[CV]  learning_rate=0.05, max_depth=7, n_estimators=700, num_leaves=70, score=0.705, total=  10.8s\n",
      "[CV] learning_rate=0.05, max_depth=7, n_estimators=700, num_leaves=70 \n",
      "[CV]  learning_rate=0.05, max_depth=7, n_estimators=700, num_leaves=70, score=0.712, total=   9.5s\n",
      "[CV] learning_rate=0.05, max_depth=7, n_estimators=700, num_leaves=70 \n",
      "[CV]  learning_rate=0.05, max_depth=7, n_estimators=700, num_leaves=70, score=0.708, total=  10.2s\n",
      "[CV] learning_rate=0.05, max_depth=7, n_estimators=700, num_leaves=70 \n",
      "[CV]  learning_rate=0.05, max_depth=7, n_estimators=700, num_leaves=70, score=0.711, total=   9.8s\n",
      "[CV] learning_rate=0.05, max_depth=7, n_estimators=700, num_leaves=70 \n",
      "[CV]  learning_rate=0.05, max_depth=7, n_estimators=700, num_leaves=70, score=0.707, total=  10.5s\n",
      "[CV] learning_rate=0.05, max_depth=7, n_estimators=700, num_leaves=100 \n",
      "[CV]  learning_rate=0.05, max_depth=7, n_estimators=700, num_leaves=100, score=0.711, total=  10.7s\n",
      "[CV] learning_rate=0.05, max_depth=7, n_estimators=700, num_leaves=100 \n",
      "[CV]  learning_rate=0.05, max_depth=7, n_estimators=700, num_leaves=100, score=0.708, total=   9.6s\n",
      "[CV] learning_rate=0.05, max_depth=7, n_estimators=700, num_leaves=100 \n",
      "[CV]  learning_rate=0.05, max_depth=7, n_estimators=700, num_leaves=100, score=0.705, total=   9.4s\n",
      "[CV] learning_rate=0.05, max_depth=7, n_estimators=700, num_leaves=100 \n",
      "[CV]  learning_rate=0.05, max_depth=7, n_estimators=700, num_leaves=100, score=0.710, total=  10.1s\n",
      "[CV] learning_rate=0.05, max_depth=7, n_estimators=700, num_leaves=100 \n",
      "[CV]  learning_rate=0.05, max_depth=7, n_estimators=700, num_leaves=100, score=0.708, total=  10.1s\n",
      "[CV] learning_rate=0.05, max_depth=7, n_estimators=1000, num_leaves=70 \n",
      "[CV]  learning_rate=0.05, max_depth=7, n_estimators=1000, num_leaves=70, score=0.707, total=  15.9s\n",
      "[CV] learning_rate=0.05, max_depth=7, n_estimators=1000, num_leaves=70 \n",
      "[CV]  learning_rate=0.05, max_depth=7, n_estimators=1000, num_leaves=70, score=0.713, total=  17.0s\n",
      "[CV] learning_rate=0.05, max_depth=7, n_estimators=1000, num_leaves=70 \n",
      "[CV]  learning_rate=0.05, max_depth=7, n_estimators=1000, num_leaves=70, score=0.704, total=  12.8s\n",
      "[CV] learning_rate=0.05, max_depth=7, n_estimators=1000, num_leaves=70 \n",
      "[CV]  learning_rate=0.05, max_depth=7, n_estimators=1000, num_leaves=70, score=0.706, total=  13.7s\n",
      "[CV] learning_rate=0.05, max_depth=7, n_estimators=1000, num_leaves=70 \n",
      "[CV]  learning_rate=0.05, max_depth=7, n_estimators=1000, num_leaves=70, score=0.703, total=  13.6s\n",
      "[CV] learning_rate=0.05, max_depth=7, n_estimators=1000, num_leaves=100 \n",
      "[CV]  learning_rate=0.05, max_depth=7, n_estimators=1000, num_leaves=100, score=0.712, total=  13.1s\n",
      "[CV] learning_rate=0.05, max_depth=7, n_estimators=1000, num_leaves=100 \n",
      "[CV]  learning_rate=0.05, max_depth=7, n_estimators=1000, num_leaves=100, score=0.711, total=  13.2s\n",
      "[CV] learning_rate=0.05, max_depth=7, n_estimators=1000, num_leaves=100 \n",
      "[CV]  learning_rate=0.05, max_depth=7, n_estimators=1000, num_leaves=100, score=0.702, total=  13.1s\n",
      "[CV] learning_rate=0.05, max_depth=7, n_estimators=1000, num_leaves=100 \n",
      "[CV]  learning_rate=0.05, max_depth=7, n_estimators=1000, num_leaves=100, score=0.709, total=  13.8s\n",
      "[CV] learning_rate=0.05, max_depth=7, n_estimators=1000, num_leaves=100 \n"
     ]
    },
    {
     "name": "stdout",
     "output_type": "stream",
     "text": [
      "[CV]  learning_rate=0.05, max_depth=7, n_estimators=1000, num_leaves=100, score=0.702, total=  13.6s\n",
      "[CV] learning_rate=0.05, max_depth=10, n_estimators=500, num_leaves=70 \n",
      "[CV]  learning_rate=0.05, max_depth=10, n_estimators=500, num_leaves=70, score=0.710, total=  10.0s\n",
      "[CV] learning_rate=0.05, max_depth=10, n_estimators=500, num_leaves=70 \n",
      "[CV]  learning_rate=0.05, max_depth=10, n_estimators=500, num_leaves=70, score=0.714, total=   8.1s\n",
      "[CV] learning_rate=0.05, max_depth=10, n_estimators=500, num_leaves=70 \n",
      "[CV]  learning_rate=0.05, max_depth=10, n_estimators=500, num_leaves=70, score=0.709, total=   7.9s\n",
      "[CV] learning_rate=0.05, max_depth=10, n_estimators=500, num_leaves=70 \n",
      "[CV]  learning_rate=0.05, max_depth=10, n_estimators=500, num_leaves=70, score=0.712, total=   9.9s\n",
      "[CV] learning_rate=0.05, max_depth=10, n_estimators=500, num_leaves=70 \n",
      "[CV]  learning_rate=0.05, max_depth=10, n_estimators=500, num_leaves=70, score=0.709, total=   8.7s\n",
      "[CV] learning_rate=0.05, max_depth=10, n_estimators=500, num_leaves=100 \n",
      "[CV]  learning_rate=0.05, max_depth=10, n_estimators=500, num_leaves=100, score=0.703, total=  11.9s\n",
      "[CV] learning_rate=0.05, max_depth=10, n_estimators=500, num_leaves=100 \n",
      "[CV]  learning_rate=0.05, max_depth=10, n_estimators=500, num_leaves=100, score=0.718, total=  10.3s\n",
      "[CV] learning_rate=0.05, max_depth=10, n_estimators=500, num_leaves=100 \n",
      "[CV]  learning_rate=0.05, max_depth=10, n_estimators=500, num_leaves=100, score=0.706, total=  10.1s\n",
      "[CV] learning_rate=0.05, max_depth=10, n_estimators=500, num_leaves=100 \n",
      "[CV]  learning_rate=0.05, max_depth=10, n_estimators=500, num_leaves=100, score=0.707, total=  11.1s\n",
      "[CV] learning_rate=0.05, max_depth=10, n_estimators=500, num_leaves=100 \n",
      "[CV]  learning_rate=0.05, max_depth=10, n_estimators=500, num_leaves=100, score=0.706, total=  11.2s\n",
      "[CV] learning_rate=0.05, max_depth=10, n_estimators=700, num_leaves=70 \n",
      "[CV]  learning_rate=0.05, max_depth=10, n_estimators=700, num_leaves=70, score=0.707, total=  12.7s\n",
      "[CV] learning_rate=0.05, max_depth=10, n_estimators=700, num_leaves=70 \n",
      "[CV]  learning_rate=0.05, max_depth=10, n_estimators=700, num_leaves=70, score=0.714, total=  12.1s\n",
      "[CV] learning_rate=0.05, max_depth=10, n_estimators=700, num_leaves=70 \n",
      "[CV]  learning_rate=0.05, max_depth=10, n_estimators=700, num_leaves=70, score=0.708, total=  11.0s\n",
      "[CV] learning_rate=0.05, max_depth=10, n_estimators=700, num_leaves=70 \n",
      "[CV]  learning_rate=0.05, max_depth=10, n_estimators=700, num_leaves=70, score=0.711, total=  12.0s\n",
      "[CV] learning_rate=0.05, max_depth=10, n_estimators=700, num_leaves=70 \n",
      "[CV]  learning_rate=0.05, max_depth=10, n_estimators=700, num_leaves=70, score=0.703, total=  12.1s\n",
      "[CV] learning_rate=0.05, max_depth=10, n_estimators=700, num_leaves=100 \n",
      "[CV]  learning_rate=0.05, max_depth=10, n_estimators=700, num_leaves=100, score=0.704, total=  16.5s\n",
      "[CV] learning_rate=0.05, max_depth=10, n_estimators=700, num_leaves=100 \n",
      "[CV]  learning_rate=0.05, max_depth=10, n_estimators=700, num_leaves=100, score=0.717, total=  14.4s\n",
      "[CV] learning_rate=0.05, max_depth=10, n_estimators=700, num_leaves=100 \n",
      "[CV]  learning_rate=0.05, max_depth=10, n_estimators=700, num_leaves=100, score=0.706, total=  15.2s\n",
      "[CV] learning_rate=0.05, max_depth=10, n_estimators=700, num_leaves=100 \n",
      "[CV]  learning_rate=0.05, max_depth=10, n_estimators=700, num_leaves=100, score=0.707, total=  17.6s\n",
      "[CV] learning_rate=0.05, max_depth=10, n_estimators=700, num_leaves=100 \n",
      "[CV]  learning_rate=0.05, max_depth=10, n_estimators=700, num_leaves=100, score=0.707, total=  15.2s\n",
      "[CV] learning_rate=0.05, max_depth=10, n_estimators=1000, num_leaves=70 \n",
      "[CV]  learning_rate=0.05, max_depth=10, n_estimators=1000, num_leaves=70, score=0.703, total=  15.9s\n",
      "[CV] learning_rate=0.05, max_depth=10, n_estimators=1000, num_leaves=70 \n",
      "[CV]  learning_rate=0.05, max_depth=10, n_estimators=1000, num_leaves=70, score=0.715, total=  15.8s\n",
      "[CV] learning_rate=0.05, max_depth=10, n_estimators=1000, num_leaves=70 \n",
      "[CV]  learning_rate=0.05, max_depth=10, n_estimators=1000, num_leaves=70, score=0.703, total=  16.7s\n",
      "[CV] learning_rate=0.05, max_depth=10, n_estimators=1000, num_leaves=70 \n",
      "[CV]  learning_rate=0.05, max_depth=10, n_estimators=1000, num_leaves=70, score=0.707, total=  16.8s\n",
      "[CV] learning_rate=0.05, max_depth=10, n_estimators=1000, num_leaves=70 \n",
      "[CV]  learning_rate=0.05, max_depth=10, n_estimators=1000, num_leaves=70, score=0.696, total=  16.9s\n",
      "[CV] learning_rate=0.05, max_depth=10, n_estimators=1000, num_leaves=100 \n",
      "[CV]  learning_rate=0.05, max_depth=10, n_estimators=1000, num_leaves=100, score=0.701, total=  20.4s\n",
      "[CV] learning_rate=0.05, max_depth=10, n_estimators=1000, num_leaves=100 \n",
      "[CV]  learning_rate=0.05, max_depth=10, n_estimators=1000, num_leaves=100, score=0.718, total=  20.4s\n",
      "[CV] learning_rate=0.05, max_depth=10, n_estimators=1000, num_leaves=100 \n",
      "[CV]  learning_rate=0.05, max_depth=10, n_estimators=1000, num_leaves=100, score=0.699, total=  21.6s\n",
      "[CV] learning_rate=0.05, max_depth=10, n_estimators=1000, num_leaves=100 \n",
      "[CV]  learning_rate=0.05, max_depth=10, n_estimators=1000, num_leaves=100, score=0.706, total=  26.7s\n",
      "[CV] learning_rate=0.05, max_depth=10, n_estimators=1000, num_leaves=100 \n",
      "[CV]  learning_rate=0.05, max_depth=10, n_estimators=1000, num_leaves=100, score=0.700, total=  22.0s\n"
     ]
    },
    {
     "name": "stderr",
     "output_type": "stream",
     "text": [
      "[Parallel(n_jobs=1)]: Done 180 out of 180 | elapsed: 31.8min finished\n"
     ]
    },
    {
     "name": "stdout",
     "output_type": "stream",
     "text": [
      "{'learning_rate': 0.05, 'max_depth': 10, 'n_estimators': 500, 'num_leaves': 70} 0.7108137732925124\n",
      "Wall time: 31min 56s\n"
     ]
    }
   ],
   "source": [
    "%%time\n",
    "\n",
    "clf = lgb.LGBMClassifier()\n",
    "param_grid = {\n",
    "    'num_leaves': [70, 100, 300],\n",
    "    'learning_rate': [0.1, 0.05],\n",
    "    'max_depth' : [7,10],\n",
    "    'n_estimators' : [500, 700],\n",
    "    'colsample_bytree' : [0.3, 0.7, 1.0]\n",
    "}\n",
    "gsearch = GridSearchCV(estimator=clf, param_grid=param_grid, cv = 5, verbose = 5, scoring = \"accuracy\")\n",
    "lgb_model = gsearch.fit(X_train, y_train)\n",
    "\n",
    "print(lgb_model.best_params_, lgb_model.best_score_)"
   ]
  },
  {
   "cell_type": "code",
   "execution_count": 27,
   "metadata": {},
   "outputs": [
    {
     "data": {
      "text/plain": [
       "LGBMClassifier(boosting_type='gbdt', class_weight=None, colsample_bytree=1.0,\n",
       "               importance_type='split', learning_rate=0.05, max_depth=10,\n",
       "               min_child_samples=20, min_child_weight=0.001, min_split_gain=0.0,\n",
       "               n_estimators=500, n_jobs=-1, num_leaves=70, objective=None,\n",
       "               random_state=None, reg_alpha=0.0, reg_lambda=0.0, silent=True,\n",
       "               subsample=1.0, subsample_for_bin=200000, subsample_freq=0)"
      ]
     },
     "execution_count": 27,
     "metadata": {},
     "output_type": "execute_result"
    }
   ],
   "source": [
    "lgb_model.best_estimator_"
   ]
  },
  {
   "cell_type": "code",
   "execution_count": 39,
   "metadata": {},
   "outputs": [],
   "source": [
    "lgbm = lgb.LGBMClassifier(\n",
    "    **lgb_model.best_params_,\n",
    "    colsample_bytree = 0.3\n",
    ")\n",
    "\n",
    "lgbm.fit(X_train, y_train)\n",
    "y_pred = lgbm.predict_proba(X_test)"
   ]
  },
  {
   "cell_type": "code",
   "execution_count": 38,
   "metadata": {},
   "outputs": [
    {
     "name": "stdout",
     "output_type": "stream",
     "text": [
      "Wall time: 43.4 s\n"
     ]
    },
    {
     "data": {
      "text/plain": [
       "0.7131567539067118"
      ]
     },
     "execution_count": 38,
     "metadata": {},
     "output_type": "execute_result"
    }
   ],
   "source": [
    "%%time\n",
    "from sklearn.model_selection import cross_val_score\n",
    "\n",
    "cross_val_score(lgbm, X_train, y_train, scoring = 'accuracy', cv = 5).mean()"
   ]
  },
  {
   "cell_type": "code",
   "execution_count": 40,
   "metadata": {},
   "outputs": [],
   "source": [
    "y_pred_df = pd.concat([test_cp['index'], pd.DataFrame(lgbm.predict_proba(X_test))], axis = 1)"
   ]
  },
  {
   "cell_type": "code",
   "execution_count": 41,
   "metadata": {},
   "outputs": [
    {
     "data": {
      "text/html": [
       "<div>\n",
       "<style scoped>\n",
       "    .dataframe tbody tr th:only-of-type {\n",
       "        vertical-align: middle;\n",
       "    }\n",
       "\n",
       "    .dataframe tbody tr th {\n",
       "        vertical-align: top;\n",
       "    }\n",
       "\n",
       "    .dataframe thead th {\n",
       "        text-align: right;\n",
       "    }\n",
       "</style>\n",
       "<table border=\"1\" class=\"dataframe\">\n",
       "  <thead>\n",
       "    <tr style=\"text-align: right;\">\n",
       "      <th></th>\n",
       "      <th>index</th>\n",
       "      <th>0</th>\n",
       "      <th>1</th>\n",
       "      <th>2</th>\n",
       "    </tr>\n",
       "  </thead>\n",
       "  <tbody>\n",
       "    <tr>\n",
       "      <td>0</td>\n",
       "      <td>26457</td>\n",
       "      <td>0.291753</td>\n",
       "      <td>0.252954</td>\n",
       "      <td>0.455293</td>\n",
       "    </tr>\n",
       "    <tr>\n",
       "      <td>1</td>\n",
       "      <td>26458</td>\n",
       "      <td>0.226470</td>\n",
       "      <td>0.207383</td>\n",
       "      <td>0.566146</td>\n",
       "    </tr>\n",
       "    <tr>\n",
       "      <td>2</td>\n",
       "      <td>26459</td>\n",
       "      <td>0.098913</td>\n",
       "      <td>0.096507</td>\n",
       "      <td>0.804580</td>\n",
       "    </tr>\n",
       "    <tr>\n",
       "      <td>3</td>\n",
       "      <td>26460</td>\n",
       "      <td>0.047128</td>\n",
       "      <td>0.105640</td>\n",
       "      <td>0.847232</td>\n",
       "    </tr>\n",
       "    <tr>\n",
       "      <td>4</td>\n",
       "      <td>26461</td>\n",
       "      <td>0.066560</td>\n",
       "      <td>0.179647</td>\n",
       "      <td>0.753793</td>\n",
       "    </tr>\n",
       "    <tr>\n",
       "      <td>...</td>\n",
       "      <td>...</td>\n",
       "      <td>...</td>\n",
       "      <td>...</td>\n",
       "      <td>...</td>\n",
       "    </tr>\n",
       "    <tr>\n",
       "      <td>9995</td>\n",
       "      <td>36452</td>\n",
       "      <td>0.142904</td>\n",
       "      <td>0.384809</td>\n",
       "      <td>0.472287</td>\n",
       "    </tr>\n",
       "    <tr>\n",
       "      <td>9996</td>\n",
       "      <td>36453</td>\n",
       "      <td>0.369840</td>\n",
       "      <td>0.221904</td>\n",
       "      <td>0.408256</td>\n",
       "    </tr>\n",
       "    <tr>\n",
       "      <td>9997</td>\n",
       "      <td>36454</td>\n",
       "      <td>0.074552</td>\n",
       "      <td>0.089568</td>\n",
       "      <td>0.835881</td>\n",
       "    </tr>\n",
       "    <tr>\n",
       "      <td>9998</td>\n",
       "      <td>36455</td>\n",
       "      <td>0.136223</td>\n",
       "      <td>0.205298</td>\n",
       "      <td>0.658479</td>\n",
       "    </tr>\n",
       "    <tr>\n",
       "      <td>9999</td>\n",
       "      <td>36456</td>\n",
       "      <td>0.068686</td>\n",
       "      <td>0.161345</td>\n",
       "      <td>0.769969</td>\n",
       "    </tr>\n",
       "  </tbody>\n",
       "</table>\n",
       "<p>10000 rows × 4 columns</p>\n",
       "</div>"
      ],
      "text/plain": [
       "      index         0         1         2\n",
       "0     26457  0.291753  0.252954  0.455293\n",
       "1     26458  0.226470  0.207383  0.566146\n",
       "2     26459  0.098913  0.096507  0.804580\n",
       "3     26460  0.047128  0.105640  0.847232\n",
       "4     26461  0.066560  0.179647  0.753793\n",
       "...     ...       ...       ...       ...\n",
       "9995  36452  0.142904  0.384809  0.472287\n",
       "9996  36453  0.369840  0.221904  0.408256\n",
       "9997  36454  0.074552  0.089568  0.835881\n",
       "9998  36455  0.136223  0.205298  0.658479\n",
       "9999  36456  0.068686  0.161345  0.769969\n",
       "\n",
       "[10000 rows x 4 columns]"
      ]
     },
     "execution_count": 41,
     "metadata": {},
     "output_type": "execute_result"
    }
   ],
   "source": [
    "y_pred_df"
   ]
  },
  {
   "cell_type": "code",
   "execution_count": 42,
   "metadata": {},
   "outputs": [
    {
     "data": {
      "text/plain": [
       "Counter({'2': 8609, '0': 292, '1': 1099})"
      ]
     },
     "execution_count": 42,
     "metadata": {},
     "output_type": "execute_result"
    }
   ],
   "source": [
    "from collections import Counter\n",
    "Counter(lgbm.predict(X_test))"
   ]
  },
  {
   "cell_type": "code",
   "execution_count": 29,
   "metadata": {},
   "outputs": [
    {
     "data": {
      "text/plain": [
       "Counter({'0': 381, '2': 8389, '1': 1230})"
      ]
     },
     "execution_count": 29,
     "metadata": {},
     "output_type": "execute_result"
    }
   ],
   "source": [
    "from collections import Counter\n",
    "Counter(lgbm.predict(X_test))"
   ]
  },
  {
   "cell_type": "code",
   "execution_count": 43,
   "metadata": {},
   "outputs": [],
   "source": [
    "y_pred_df.to_csv('./data/sub.csv', index = False)"
   ]
  },
  {
   "cell_type": "markdown",
   "metadata": {},
   "source": [
    "## 개선방안\n",
    "- https://dacon.io/competitions/official/235713/codeshare/2526?page=1&dtype=recent\n",
    "- 날짜변수 분포 보고전처리하기\n",
    "- 직업코드 전처리하기\n",
    "- 중복데이터 제거"
   ]
  },
  {
   "cell_type": "code",
   "execution_count": 52,
   "metadata": {},
   "outputs": [
    {
     "name": "stderr",
     "output_type": "stream",
     "text": [
      "C:\\Users\\AgileSoda\\Anaconda3\\lib\\site-packages\\seaborn\\distributions.py:2551: FutureWarning: `distplot` is a deprecated function and will be removed in a future version. Please adapt your code to use either `displot` (a figure-level function with similar flexibility) or `histplot` (an axes-level function for histograms).\n",
      "  warnings.warn(msg, FutureWarning)\n"
     ]
    },
    {
     "data": {
      "text/plain": [
       "<AxesSubplot:xlabel='income_total', ylabel='Density'>"
      ]
     },
     "execution_count": 52,
     "metadata": {},
     "output_type": "execute_result"
    },
    {
     "data": {
      "image/png": "[encoded data removed]",
      "text/plain": [
       "<Figure size 432x288 with 1 Axes>"
      ]
     },
     "metadata": {
      "needs_background": "light"
     },
     "output_type": "display_data"
    }
   ],
   "source": [
    "import seaborn as sns\n",
    "import matplotlib.pyplot as plt\n",
    "\n",
    "sns.distplot(train_cp.income_total)"
   ]
  },
  {
   "cell_type": "code",
   "execution_count": 53,
   "metadata": {},
   "outputs": [
    {
     "name": "stderr",
     "output_type": "stream",
     "text": [
      "C:\\Users\\AgileSoda\\Anaconda3\\lib\\site-packages\\seaborn\\distributions.py:2551: FutureWarning: `distplot` is a deprecated function and will be removed in a future version. Please adapt your code to use either `displot` (a figure-level function with similar flexibility) or `histplot` (an axes-level function for histograms).\n",
      "  warnings.warn(msg, FutureWarning)\n"
     ]
    },
    {
     "data": {
      "text/plain": [
       "<AxesSubplot:xlabel='begin_month', ylabel='Density'>"
      ]
     },
     "execution_count": 53,
     "metadata": {},
     "output_type": "execute_result"
    },
    {
     "data": {
      "image/png": "[encoded data removed]",
      "text/plain": [
       "<Figure size 432x288 with 1 Axes>"
      ]
     },
     "metadata": {
      "needs_background": "light"
     },
     "output_type": "display_data"
    }
   ],
   "source": [
    "sns.distplot(train_cp.begin_month)"
   ]
  },
  {
   "cell_type": "code",
   "execution_count": 54,
   "metadata": {},
   "outputs": [
    {
     "name": "stderr",
     "output_type": "stream",
     "text": [
      "C:\\Users\\AgileSoda\\Anaconda3\\lib\\site-packages\\seaborn\\distributions.py:2551: FutureWarning: `distplot` is a deprecated function and will be removed in a future version. Please adapt your code to use either `displot` (a figure-level function with similar flexibility) or `histplot` (an axes-level function for histograms).\n",
      "  warnings.warn(msg, FutureWarning)\n"
     ]
    },
    {
     "data": {
      "text/plain": [
       "<AxesSubplot:xlabel='days_employed', ylabel='Density'>"
      ]
     },
     "execution_count": 54,
     "metadata": {},
     "output_type": "execute_result"
    },
    {
     "data": {
      "image/png": "[encoded data removed]",
      "text/plain": [
       "<Figure size 432x288 with 1 Axes>"
      ]
     },
     "metadata": {
      "needs_background": "light"
     },
     "output_type": "display_data"
    }
   ],
   "source": [
    "sns.distplot(train_cp.days_employed)"
   ]
  },
  {
   "cell_type": "code",
   "execution_count": 55,
   "metadata": {},
   "outputs": [
    {
     "name": "stderr",
     "output_type": "stream",
     "text": [
      "C:\\Users\\AgileSoda\\Anaconda3\\lib\\site-packages\\seaborn\\distributions.py:2551: FutureWarning: `distplot` is a deprecated function and will be removed in a future version. Please adapt your code to use either `displot` (a figure-level function with similar flexibility) or `histplot` (an axes-level function for histograms).\n",
      "  warnings.warn(msg, FutureWarning)\n"
     ]
    },
    {
     "data": {
      "text/plain": [
       "<AxesSubplot:xlabel='days_birth', ylabel='Density'>"
      ]
     },
     "execution_count": 55,
     "metadata": {},
     "output_type": "execute_result"
    },
    {
     "data": {
      "image/png": "[encoded data removed]",
      "text/plain": [
       "<Figure size 432x288 with 1 Axes>"
      ]
     },
     "metadata": {
      "needs_background": "light"
     },
     "output_type": "display_data"
    }
   ],
   "source": [
    "sns.distplot(train_cp.days_birth)"
   ]
  }
 ],
 "metadata": {
  "kernelspec": {
   "display_name": "Python 3",
   "language": "python",
   "name": "python3"
  },
  "language_info": {
   "codemirror_mode": {
    "name": "ipython",
    "version": 3
   },
   "file_extension": ".py",
   "mimetype": "text/x-python",
   "name": "python",
   "nbconvert_exporter": "python",
   "pygments_lexer": "ipython3",
   "version": "3.7.4"
  }
 },
 "nbformat": 4,
 "nbformat_minor": 2
}
